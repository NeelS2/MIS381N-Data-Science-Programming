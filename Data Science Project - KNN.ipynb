{
 "cells": [
  {
   "cell_type": "code",
   "execution_count": 62,
   "id": "47b10394",
   "metadata": {},
   "outputs": [],
   "source": [
    "import numpy as np\n",
    "import pandas as pd\n",
    "import matplotlib.pyplot as plt\n",
    "%matplotlib inline\n",
    "import seaborn as sns\n",
    "from patsy import dmatrices\n",
    "from sklearn.model_selection import train_test_split\n",
    "from sklearn import neighbors\n",
    "from sklearn import metrics\n",
    "from sklearn import model_selection\n",
    "from sklearn.metrics import plot_confusion_matrix"
   ]
  },
  {
   "cell_type": "code",
   "execution_count": 63,
   "id": "019544b5",
   "metadata": {},
   "outputs": [
    {
     "data": {
      "text/html": [
       "<div>\n",
       "<style scoped>\n",
       "    .dataframe tbody tr th:only-of-type {\n",
       "        vertical-align: middle;\n",
       "    }\n",
       "\n",
       "    .dataframe tbody tr th {\n",
       "        vertical-align: top;\n",
       "    }\n",
       "\n",
       "    .dataframe thead th {\n",
       "        text-align: right;\n",
       "    }\n",
       "</style>\n",
       "<table border=\"1\" class=\"dataframe\">\n",
       "  <thead>\n",
       "    <tr style=\"text-align: right;\">\n",
       "      <th></th>\n",
       "      <th>CreditScore</th>\n",
       "      <th>Geography</th>\n",
       "      <th>Gender</th>\n",
       "      <th>Age</th>\n",
       "      <th>Balance</th>\n",
       "      <th>NumOfProducts</th>\n",
       "      <th>IsActiveMember</th>\n",
       "      <th>Exited</th>\n",
       "    </tr>\n",
       "  </thead>\n",
       "  <tbody>\n",
       "    <tr>\n",
       "      <th>0</th>\n",
       "      <td>619</td>\n",
       "      <td>France</td>\n",
       "      <td>Female</td>\n",
       "      <td>42</td>\n",
       "      <td>0.00</td>\n",
       "      <td>1</td>\n",
       "      <td>1</td>\n",
       "      <td>1</td>\n",
       "    </tr>\n",
       "    <tr>\n",
       "      <th>1</th>\n",
       "      <td>608</td>\n",
       "      <td>Spain</td>\n",
       "      <td>Female</td>\n",
       "      <td>41</td>\n",
       "      <td>83807.86</td>\n",
       "      <td>1</td>\n",
       "      <td>1</td>\n",
       "      <td>0</td>\n",
       "    </tr>\n",
       "    <tr>\n",
       "      <th>2</th>\n",
       "      <td>502</td>\n",
       "      <td>France</td>\n",
       "      <td>Female</td>\n",
       "      <td>42</td>\n",
       "      <td>159660.80</td>\n",
       "      <td>3</td>\n",
       "      <td>0</td>\n",
       "      <td>1</td>\n",
       "    </tr>\n",
       "    <tr>\n",
       "      <th>3</th>\n",
       "      <td>699</td>\n",
       "      <td>France</td>\n",
       "      <td>Female</td>\n",
       "      <td>39</td>\n",
       "      <td>0.00</td>\n",
       "      <td>2</td>\n",
       "      <td>0</td>\n",
       "      <td>0</td>\n",
       "    </tr>\n",
       "    <tr>\n",
       "      <th>4</th>\n",
       "      <td>850</td>\n",
       "      <td>Spain</td>\n",
       "      <td>Female</td>\n",
       "      <td>43</td>\n",
       "      <td>125510.82</td>\n",
       "      <td>1</td>\n",
       "      <td>1</td>\n",
       "      <td>0</td>\n",
       "    </tr>\n",
       "    <tr>\n",
       "      <th>...</th>\n",
       "      <td>...</td>\n",
       "      <td>...</td>\n",
       "      <td>...</td>\n",
       "      <td>...</td>\n",
       "      <td>...</td>\n",
       "      <td>...</td>\n",
       "      <td>...</td>\n",
       "      <td>...</td>\n",
       "    </tr>\n",
       "    <tr>\n",
       "      <th>9995</th>\n",
       "      <td>771</td>\n",
       "      <td>France</td>\n",
       "      <td>Male</td>\n",
       "      <td>39</td>\n",
       "      <td>0.00</td>\n",
       "      <td>2</td>\n",
       "      <td>0</td>\n",
       "      <td>0</td>\n",
       "    </tr>\n",
       "    <tr>\n",
       "      <th>9996</th>\n",
       "      <td>516</td>\n",
       "      <td>France</td>\n",
       "      <td>Male</td>\n",
       "      <td>35</td>\n",
       "      <td>57369.61</td>\n",
       "      <td>1</td>\n",
       "      <td>1</td>\n",
       "      <td>0</td>\n",
       "    </tr>\n",
       "    <tr>\n",
       "      <th>9997</th>\n",
       "      <td>709</td>\n",
       "      <td>France</td>\n",
       "      <td>Female</td>\n",
       "      <td>36</td>\n",
       "      <td>0.00</td>\n",
       "      <td>1</td>\n",
       "      <td>1</td>\n",
       "      <td>1</td>\n",
       "    </tr>\n",
       "    <tr>\n",
       "      <th>9998</th>\n",
       "      <td>772</td>\n",
       "      <td>Germany</td>\n",
       "      <td>Male</td>\n",
       "      <td>42</td>\n",
       "      <td>75075.31</td>\n",
       "      <td>2</td>\n",
       "      <td>0</td>\n",
       "      <td>1</td>\n",
       "    </tr>\n",
       "    <tr>\n",
       "      <th>9999</th>\n",
       "      <td>792</td>\n",
       "      <td>France</td>\n",
       "      <td>Female</td>\n",
       "      <td>28</td>\n",
       "      <td>130142.79</td>\n",
       "      <td>1</td>\n",
       "      <td>0</td>\n",
       "      <td>0</td>\n",
       "    </tr>\n",
       "  </tbody>\n",
       "</table>\n",
       "<p>10000 rows × 8 columns</p>\n",
       "</div>"
      ],
      "text/plain": [
       "      CreditScore Geography  Gender  Age    Balance  NumOfProducts  \\\n",
       "0             619    France  Female   42       0.00              1   \n",
       "1             608     Spain  Female   41   83807.86              1   \n",
       "2             502    France  Female   42  159660.80              3   \n",
       "3             699    France  Female   39       0.00              2   \n",
       "4             850     Spain  Female   43  125510.82              1   \n",
       "...           ...       ...     ...  ...        ...            ...   \n",
       "9995          771    France    Male   39       0.00              2   \n",
       "9996          516    France    Male   35   57369.61              1   \n",
       "9997          709    France  Female   36       0.00              1   \n",
       "9998          772   Germany    Male   42   75075.31              2   \n",
       "9999          792    France  Female   28  130142.79              1   \n",
       "\n",
       "      IsActiveMember  Exited  \n",
       "0                  1       1  \n",
       "1                  1       0  \n",
       "2                  0       1  \n",
       "3                  0       0  \n",
       "4                  1       0  \n",
       "...              ...     ...  \n",
       "9995               0       0  \n",
       "9996               1       0  \n",
       "9997               1       1  \n",
       "9998               0       1  \n",
       "9999               0       0  \n",
       "\n",
       "[10000 rows x 8 columns]"
      ]
     },
     "execution_count": 63,
     "metadata": {},
     "output_type": "execute_result"
    }
   ],
   "source": [
    "df = pd.read_csv(\"Churn_Modelling.csv\")\n",
    "df = df.drop([\"RowNumber\", \"CustomerId\", \"Surname\", \"EstimatedSalary\", \"HasCrCard\", \"Tenure\"], axis = 1)\n",
    "df"
   ]
  },
  {
   "cell_type": "code",
   "execution_count": 64,
   "id": "5eeb7b59",
   "metadata": {},
   "outputs": [
    {
     "data": {
      "text/plain": [
       "array([1., 0., 1., ..., 1., 1., 0.])"
      ]
     },
     "execution_count": 64,
     "metadata": {},
     "output_type": "execute_result"
    }
   ],
   "source": [
    "Y, X = dmatrices('Exited ~ 0 + CreditScore + Geography + Gender + Age + Balance + NumOfProducts + IsActiveMember',\n",
    "                 df,return_type=\"dataframe\")\n",
    "y = Y['Exited'].values\n",
    "y"
   ]
  },
  {
   "cell_type": "code",
   "execution_count": 65,
   "id": "f39bd856",
   "metadata": {},
   "outputs": [],
   "source": [
    "X_train, X_test, y_train, y_test = train_test_split(X, y, test_size=0.3, random_state=1)"
   ]
  },
  {
   "cell_type": "code",
   "execution_count": 66,
   "id": "d4df438c",
   "metadata": {},
   "outputs": [],
   "source": [
    "model = neighbors.KNeighborsClassifier(n_neighbors=15,\n",
    "                                       weights='uniform',\n",
    "                                       p=2)"
   ]
  },
  {
   "cell_type": "code",
   "execution_count": 67,
   "id": "4b0e073d",
   "metadata": {},
   "outputs": [
    {
     "data": {
      "text/plain": [
       "KNeighborsClassifier(n_neighbors=15)"
      ]
     },
     "execution_count": 67,
     "metadata": {},
     "output_type": "execute_result"
    }
   ],
   "source": [
    "model.fit(X_train, y_train)"
   ]
  },
  {
   "cell_type": "code",
   "execution_count": 68,
   "id": "6f085c8c",
   "metadata": {},
   "outputs": [
    {
     "name": "stdout",
     "output_type": "stream",
     "text": [
      "0.8018571428571428\n"
     ]
    }
   ],
   "source": [
    "prediction_on_training = model.predict(X_train)\n",
    "print(metrics.accuracy_score(y_train, prediction_on_training))"
   ]
  },
  {
   "cell_type": "code",
   "execution_count": 69,
   "id": "3e0a4419",
   "metadata": {},
   "outputs": [
    {
     "data": {
      "text/plain": [
       "Text(0.5, 1.0, 'Accuracy vs Number of Nearest Neighbors')"
      ]
     },
     "execution_count": 69,
     "metadata": {},
     "output_type": "execute_result"
    },
    {
     "data": {
      "image/png": "[encoded data removed]",
      "text/plain": [
       "<Figure size 432x288 with 1 Axes>"
      ]
     },
     "metadata": {
      "needs_background": "light"
     },
     "output_type": "display_data"
    }
   ],
   "source": [
    "def cv_accuracy_score(X, y, nn): \n",
    "    model = neighbors.KNeighborsClassifier(n_neighbors=nn,\n",
    "                                           weights='uniform')\n",
    "    accuracies = []\n",
    "    \n",
    "    kfold = model_selection.StratifiedKFold(n_splits=10, shuffle=True).split(X, y)\n",
    "    for train, holdout in kfold:\n",
    "        X_train = X.iloc[train]\n",
    "        X_holdout = X.iloc[holdout]\n",
    "        y_train = y[train]\n",
    "        y_holdout = y[holdout]\n",
    "        \n",
    "        model.fit(X_train, y_train)\n",
    "        \n",
    "        accuracy = metrics.accuracy_score(y_holdout, model.predict(X_holdout))\n",
    "        accuracies.append(accuracy)\n",
    "    \n",
    "    average_accuracy = pd.Series(accuracies).mean()\n",
    "    return average_accuracy\n",
    "\n",
    "nn = [1] + [(x + 1) * 5 for x in range(19)]\n",
    "scores = [cv_accuracy_score(X, y, num_nbrs) for num_nbrs in nn]\n",
    "\n",
    "plt.plot(nn, scores)\n",
    "plt.xlabel('Number of Nearest Neighbors')\n",
    "plt.ylabel('Accuracy of Classifier')\n",
    "plt.title('Accuracy vs Number of Nearest Neighbors')"
   ]
  },
  {
   "cell_type": "code",
   "execution_count": 73,
   "id": "7e7f366c",
   "metadata": {},
   "outputs": [
    {
     "name": "stdout",
     "output_type": "stream",
     "text": [
      "0.8044285714285714\n"
     ]
    }
   ],
   "source": [
    "final_model = neighbors.KNeighborsClassifier(n_neighbors=10,\n",
    "                                       weights='uniform',\n",
    "                                       p=2)\n",
    "final_model.fit(X_train, y_train)\n",
    "final_prediction_on_training = final_model.predict(X_train)\n",
    "print(metrics.accuracy_score(y_train, final_prediction_on_training))"
   ]
  },
  {
   "cell_type": "code",
   "execution_count": 71,
   "id": "833a754f",
   "metadata": {},
   "outputs": [
    {
     "name": "stderr",
     "output_type": "stream",
     "text": [
      "C:\\Users\\pokem\\anaconda3\\lib\\site-packages\\sklearn\\utils\\deprecation.py:87: FutureWarning: Function plot_confusion_matrix is deprecated; Function `plot_confusion_matrix` is deprecated in 1.0 and will be removed in 1.2. Use one of the class methods: ConfusionMatrixDisplay.from_predictions or ConfusionMatrixDisplay.from_estimator.\n",
      "  warnings.warn(msg, category=FutureWarning)\n"
     ]
    },
    {
     "data": {
      "text/plain": [
       "Text(0, 0.5, 'Actual label')"
      ]
     },
     "execution_count": 71,
     "metadata": {},
     "output_type": "execute_result"
    },
    {
     "data": {
      "image/png": "[encoded data removed]",
      "text/plain": [
       "<Figure size 432x288 with 2 Axes>"
      ]
     },
     "metadata": {
      "needs_background": "light"
     },
     "output_type": "display_data"
    }
   ],
   "source": [
    "    plot_confusion_matrix(final_model, X_test, y_test)\n",
    "    plt.grid(False)\n",
    "    plt.title('Confusion Matrix for Test Data on Bank Churn')\n",
    "    plt.ylabel('Actual label')"
   ]
  },
  {
   "cell_type": "code",
   "execution_count": null,
   "id": "fcfb0801",
   "metadata": {},
   "outputs": [],
   "source": []
  }
 ],
 "metadata": {
  "kernelspec": {
   "display_name": "Python 3 (ipykernel)",
   "language": "python",
   "name": "python3"
  },
  "language_info": {
   "codemirror_mode": {
    "name": "ipython",
    "version": 3
   },
   "file_extension": ".py",
   "mimetype": "text/x-python",
   "name": "python",
   "nbconvert_exporter": "python",
   "pygments_lexer": "ipython3",
   "version": "3.9.12"
  }
 },
 "nbformat": 4,
 "nbformat_minor": 5
}
