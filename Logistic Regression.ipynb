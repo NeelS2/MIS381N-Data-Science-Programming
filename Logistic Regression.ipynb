{
 "cells": [
  {
   "cell_type": "code",
   "execution_count": 49,
   "id": "3cd496a3",
   "metadata": {},
   "outputs": [
    {
     "name": "stdout",
     "output_type": "stream",
     "text": [
      "Populating the interactive namespace from numpy and matplotlib\n"
     ]
    }
   ],
   "source": [
    "import pandas as pd \n",
    "from pandas import Series, DataFrame\n",
    "%pylab inline \n",
    "%matplotlib inline \n",
    "from patsy import dmatrices"
   ]
  },
  {
   "cell_type": "code",
   "execution_count": 2,
   "id": "55fd3ca2",
   "metadata": {},
   "outputs": [],
   "source": [
    "df = pd.read_csv(\"Churn_Modelling.csv\")"
   ]
  },
  {
   "cell_type": "code",
   "execution_count": 3,
   "id": "b20b3040",
   "metadata": {},
   "outputs": [
    {
     "data": {
      "text/html": [
       "<div>\n",
       "<style scoped>\n",
       "    .dataframe tbody tr th:only-of-type {\n",
       "        vertical-align: middle;\n",
       "    }\n",
       "\n",
       "    .dataframe tbody tr th {\n",
       "        vertical-align: top;\n",
       "    }\n",
       "\n",
       "    .dataframe thead th {\n",
       "        text-align: right;\n",
       "    }\n",
       "</style>\n",
       "<table border=\"1\" class=\"dataframe\">\n",
       "  <thead>\n",
       "    <tr style=\"text-align: right;\">\n",
       "      <th></th>\n",
       "      <th>RowNumber</th>\n",
       "      <th>CustomerId</th>\n",
       "      <th>Surname</th>\n",
       "      <th>CreditScore</th>\n",
       "      <th>Geography</th>\n",
       "      <th>Gender</th>\n",
       "      <th>Age</th>\n",
       "      <th>Tenure</th>\n",
       "      <th>Balance</th>\n",
       "      <th>NumOfProducts</th>\n",
       "      <th>HasCrCard</th>\n",
       "      <th>IsActiveMember</th>\n",
       "      <th>EstimatedSalary</th>\n",
       "      <th>Exited</th>\n",
       "    </tr>\n",
       "  </thead>\n",
       "  <tbody>\n",
       "    <tr>\n",
       "      <td>0</td>\n",
       "      <td>1</td>\n",
       "      <td>15634602</td>\n",
       "      <td>Hargrave</td>\n",
       "      <td>619</td>\n",
       "      <td>France</td>\n",
       "      <td>Female</td>\n",
       "      <td>42</td>\n",
       "      <td>2</td>\n",
       "      <td>0.00</td>\n",
       "      <td>1</td>\n",
       "      <td>1</td>\n",
       "      <td>1</td>\n",
       "      <td>101348.88</td>\n",
       "      <td>1</td>\n",
       "    </tr>\n",
       "    <tr>\n",
       "      <td>1</td>\n",
       "      <td>2</td>\n",
       "      <td>15647311</td>\n",
       "      <td>Hill</td>\n",
       "      <td>608</td>\n",
       "      <td>Spain</td>\n",
       "      <td>Female</td>\n",
       "      <td>41</td>\n",
       "      <td>1</td>\n",
       "      <td>83807.86</td>\n",
       "      <td>1</td>\n",
       "      <td>0</td>\n",
       "      <td>1</td>\n",
       "      <td>112542.58</td>\n",
       "      <td>0</td>\n",
       "    </tr>\n",
       "    <tr>\n",
       "      <td>2</td>\n",
       "      <td>3</td>\n",
       "      <td>15619304</td>\n",
       "      <td>Onio</td>\n",
       "      <td>502</td>\n",
       "      <td>France</td>\n",
       "      <td>Female</td>\n",
       "      <td>42</td>\n",
       "      <td>8</td>\n",
       "      <td>159660.80</td>\n",
       "      <td>3</td>\n",
       "      <td>1</td>\n",
       "      <td>0</td>\n",
       "      <td>113931.57</td>\n",
       "      <td>1</td>\n",
       "    </tr>\n",
       "    <tr>\n",
       "      <td>3</td>\n",
       "      <td>4</td>\n",
       "      <td>15701354</td>\n",
       "      <td>Boni</td>\n",
       "      <td>699</td>\n",
       "      <td>France</td>\n",
       "      <td>Female</td>\n",
       "      <td>39</td>\n",
       "      <td>1</td>\n",
       "      <td>0.00</td>\n",
       "      <td>2</td>\n",
       "      <td>0</td>\n",
       "      <td>0</td>\n",
       "      <td>93826.63</td>\n",
       "      <td>0</td>\n",
       "    </tr>\n",
       "    <tr>\n",
       "      <td>4</td>\n",
       "      <td>5</td>\n",
       "      <td>15737888</td>\n",
       "      <td>Mitchell</td>\n",
       "      <td>850</td>\n",
       "      <td>Spain</td>\n",
       "      <td>Female</td>\n",
       "      <td>43</td>\n",
       "      <td>2</td>\n",
       "      <td>125510.82</td>\n",
       "      <td>1</td>\n",
       "      <td>1</td>\n",
       "      <td>1</td>\n",
       "      <td>79084.10</td>\n",
       "      <td>0</td>\n",
       "    </tr>\n",
       "  </tbody>\n",
       "</table>\n",
       "</div>"
      ],
      "text/plain": [
       "   RowNumber  CustomerId   Surname  CreditScore Geography  Gender  Age  \\\n",
       "0          1    15634602  Hargrave          619    France  Female   42   \n",
       "1          2    15647311      Hill          608     Spain  Female   41   \n",
       "2          3    15619304      Onio          502    France  Female   42   \n",
       "3          4    15701354      Boni          699    France  Female   39   \n",
       "4          5    15737888  Mitchell          850     Spain  Female   43   \n",
       "\n",
       "   Tenure    Balance  NumOfProducts  HasCrCard  IsActiveMember  \\\n",
       "0       2       0.00              1          1               1   \n",
       "1       1   83807.86              1          0               1   \n",
       "2       8  159660.80              3          1               0   \n",
       "3       1       0.00              2          0               0   \n",
       "4       2  125510.82              1          1               1   \n",
       "\n",
       "   EstimatedSalary  Exited  \n",
       "0        101348.88       1  \n",
       "1        112542.58       0  \n",
       "2        113931.57       1  \n",
       "3         93826.63       0  \n",
       "4         79084.10       0  "
      ]
     },
     "execution_count": 3,
     "metadata": {},
     "output_type": "execute_result"
    }
   ],
   "source": [
    "df[:5]"
   ]
  },
  {
   "cell_type": "code",
   "execution_count": 4,
   "id": "29a16362",
   "metadata": {},
   "outputs": [
    {
     "data": {
      "text/plain": [
       "<matplotlib.axes._subplots.AxesSubplot at 0x28fdaa3dfc8>"
      ]
     },
     "execution_count": 4,
     "metadata": {},
     "output_type": "execute_result"
    },
    {
     "data": {
      "image/png": "[encoded data removed]",
      "text/plain": [
       "<Figure size 432x288 with 1 Axes>"
      ]
     },
     "metadata": {
      "needs_background": "light"
     },
     "output_type": "display_data"
    }
   ],
   "source": [
    "def getcredscore(s):\n",
    "    a=''\n",
    "    if s>=300 and s<=579:\n",
    "        a='Poor'\n",
    "    elif s>=580 and s<=669:\n",
    "        a='Fair'\n",
    "    elif s>=670 and s<=739:\n",
    "        a='Good'\n",
    "    elif s>=740 and s<=799:\n",
    "        a='Very Good'\n",
    "    elif s>=800 and s<=850:\n",
    "        a='Exceptional'\n",
    "    else:\n",
    "        a=\"Unknown\"\n",
    "    return a\n",
    "\n",
    "df['CreditScore_Bucket'] = df['CreditScore'].apply(getcredscore)\n",
    "df['CreditScore_Bucket'].value_counts().plot(kind='bar')"
   ]
  },
  {
   "cell_type": "code",
   "execution_count": 10,
   "id": "272feda0",
   "metadata": {},
   "outputs": [
    {
     "data": {
      "text/plain": [
       "<matplotlib.axes._subplots.AxesSubplot at 0x28fdb1b5348>"
      ]
     },
     "execution_count": 10,
     "metadata": {},
     "output_type": "execute_result"
    },
    {
     "data": {
      "image/png": "[encoded data removed]",
      "text/plain": [
       "<Figure size 432x288 with 1 Axes>"
      ]
     },
     "metadata": {
      "needs_background": "light"
     },
     "output_type": "display_data"
    }
   ],
   "source": [
    "def getagebkt(s):\n",
    "    a=''\n",
    "    if s>=18 and s<=25:\n",
    "        a='Young Adult'\n",
    "    elif s>=26 and s<=35:\n",
    "        a='Adult'\n",
    "    elif s>=36 and s<=68:\n",
    "        a='Middle Age'\n",
    "    elif s>=69 and s<=80:\n",
    "        a='Early Retirement'\n",
    "    elif s>=81:\n",
    "        a='Old'\n",
    "    else:\n",
    "        a=\"Unknown\"\n",
    "    return a\n",
    "\n",
    "df['Age_Bucket'] = df['Age'].apply(getagebkt)\n",
    "df['Age_Bucket'].value_counts().plot(kind='bar',color='#CC5500')"
   ]
  },
  {
   "cell_type": "code",
   "execution_count": 11,
   "id": "a373f316",
   "metadata": {},
   "outputs": [
    {
     "data": {
      "text/html": [
       "<div>\n",
       "<style scoped>\n",
       "    .dataframe tbody tr th:only-of-type {\n",
       "        vertical-align: middle;\n",
       "    }\n",
       "\n",
       "    .dataframe tbody tr th {\n",
       "        vertical-align: top;\n",
       "    }\n",
       "\n",
       "    .dataframe thead th {\n",
       "        text-align: right;\n",
       "    }\n",
       "</style>\n",
       "<table border=\"1\" class=\"dataframe\">\n",
       "  <thead>\n",
       "    <tr style=\"text-align: right;\">\n",
       "      <th></th>\n",
       "      <th>RowNumber</th>\n",
       "      <th>CustomerId</th>\n",
       "      <th>Surname</th>\n",
       "      <th>CreditScore</th>\n",
       "      <th>Geography</th>\n",
       "      <th>Gender</th>\n",
       "      <th>Age</th>\n",
       "      <th>Tenure</th>\n",
       "      <th>Balance</th>\n",
       "      <th>NumOfProducts</th>\n",
       "      <th>HasCrCard</th>\n",
       "      <th>IsActiveMember</th>\n",
       "      <th>EstimatedSalary</th>\n",
       "      <th>Exited</th>\n",
       "      <th>CreditScore_Bucket</th>\n",
       "      <th>Age_Bucket</th>\n",
       "      <th>pct_cc</th>\n",
       "    </tr>\n",
       "  </thead>\n",
       "  <tbody>\n",
       "    <tr>\n",
       "      <td>0</td>\n",
       "      <td>1</td>\n",
       "      <td>15634602</td>\n",
       "      <td>Hargrave</td>\n",
       "      <td>619</td>\n",
       "      <td>France</td>\n",
       "      <td>Female</td>\n",
       "      <td>42</td>\n",
       "      <td>2</td>\n",
       "      <td>0.00</td>\n",
       "      <td>1</td>\n",
       "      <td>1</td>\n",
       "      <td>1</td>\n",
       "      <td>101348.88</td>\n",
       "      <td>1</td>\n",
       "      <td>Fair</td>\n",
       "      <td>Middle Age</td>\n",
       "      <td>1.000000</td>\n",
       "    </tr>\n",
       "    <tr>\n",
       "      <td>1</td>\n",
       "      <td>2</td>\n",
       "      <td>15647311</td>\n",
       "      <td>Hill</td>\n",
       "      <td>608</td>\n",
       "      <td>Spain</td>\n",
       "      <td>Female</td>\n",
       "      <td>41</td>\n",
       "      <td>1</td>\n",
       "      <td>83807.86</td>\n",
       "      <td>1</td>\n",
       "      <td>0</td>\n",
       "      <td>1</td>\n",
       "      <td>112542.58</td>\n",
       "      <td>0</td>\n",
       "      <td>Fair</td>\n",
       "      <td>Middle Age</td>\n",
       "      <td>0.000000</td>\n",
       "    </tr>\n",
       "    <tr>\n",
       "      <td>2</td>\n",
       "      <td>3</td>\n",
       "      <td>15619304</td>\n",
       "      <td>Onio</td>\n",
       "      <td>502</td>\n",
       "      <td>France</td>\n",
       "      <td>Female</td>\n",
       "      <td>42</td>\n",
       "      <td>8</td>\n",
       "      <td>159660.80</td>\n",
       "      <td>3</td>\n",
       "      <td>1</td>\n",
       "      <td>0</td>\n",
       "      <td>113931.57</td>\n",
       "      <td>1</td>\n",
       "      <td>Poor</td>\n",
       "      <td>Middle Age</td>\n",
       "      <td>0.333333</td>\n",
       "    </tr>\n",
       "    <tr>\n",
       "      <td>3</td>\n",
       "      <td>4</td>\n",
       "      <td>15701354</td>\n",
       "      <td>Boni</td>\n",
       "      <td>699</td>\n",
       "      <td>France</td>\n",
       "      <td>Female</td>\n",
       "      <td>39</td>\n",
       "      <td>1</td>\n",
       "      <td>0.00</td>\n",
       "      <td>2</td>\n",
       "      <td>0</td>\n",
       "      <td>0</td>\n",
       "      <td>93826.63</td>\n",
       "      <td>0</td>\n",
       "      <td>Good</td>\n",
       "      <td>Middle Age</td>\n",
       "      <td>0.000000</td>\n",
       "    </tr>\n",
       "    <tr>\n",
       "      <td>4</td>\n",
       "      <td>5</td>\n",
       "      <td>15737888</td>\n",
       "      <td>Mitchell</td>\n",
       "      <td>850</td>\n",
       "      <td>Spain</td>\n",
       "      <td>Female</td>\n",
       "      <td>43</td>\n",
       "      <td>2</td>\n",
       "      <td>125510.82</td>\n",
       "      <td>1</td>\n",
       "      <td>1</td>\n",
       "      <td>1</td>\n",
       "      <td>79084.10</td>\n",
       "      <td>0</td>\n",
       "      <td>Exceptional</td>\n",
       "      <td>Middle Age</td>\n",
       "      <td>1.000000</td>\n",
       "    </tr>\n",
       "  </tbody>\n",
       "</table>\n",
       "</div>"
      ],
      "text/plain": [
       "   RowNumber  CustomerId   Surname  CreditScore Geography  Gender  Age  \\\n",
       "0          1    15634602  Hargrave          619    France  Female   42   \n",
       "1          2    15647311      Hill          608     Spain  Female   41   \n",
       "2          3    15619304      Onio          502    France  Female   42   \n",
       "3          4    15701354      Boni          699    France  Female   39   \n",
       "4          5    15737888  Mitchell          850     Spain  Female   43   \n",
       "\n",
       "   Tenure    Balance  NumOfProducts  HasCrCard  IsActiveMember  \\\n",
       "0       2       0.00              1          1               1   \n",
       "1       1   83807.86              1          0               1   \n",
       "2       8  159660.80              3          1               0   \n",
       "3       1       0.00              2          0               0   \n",
       "4       2  125510.82              1          1               1   \n",
       "\n",
       "   EstimatedSalary  Exited CreditScore_Bucket  Age_Bucket    pct_cc  \n",
       "0        101348.88       1               Fair  Middle Age  1.000000  \n",
       "1        112542.58       0               Fair  Middle Age  0.000000  \n",
       "2        113931.57       1               Poor  Middle Age  0.333333  \n",
       "3         93826.63       0               Good  Middle Age  0.000000  \n",
       "4         79084.10       0        Exceptional  Middle Age  1.000000  "
      ]
     },
     "execution_count": 11,
     "metadata": {},
     "output_type": "execute_result"
    }
   ],
   "source": [
    "df['pct_cc'] = df['HasCrCard']/df['NumOfProducts']\n",
    "df[:5]"
   ]
  },
  {
   "cell_type": "code",
   "execution_count": 18,
   "id": "0578ca8c",
   "metadata": {},
   "outputs": [
    {
     "data": {
      "image/png": "[encoded data removed]",
      "text/plain": [
       "<Figure size 864x360 with 2 Axes>"
      ]
     },
     "metadata": {
      "needs_background": "light"
     },
     "output_type": "display_data"
    }
   ],
   "source": [
    "a = df.groupby(['Age_Bucket','Exited'])[['CustomerId']].count().unstack().reset_index()\n",
    "a['pct_exit'] = a[('CustomerId', 1)]/(a[('CustomerId', 0)]+a[('CustomerId', 1)])\n",
    "a['total'] = (a[('CustomerId', 0)]+a[('CustomerId', 1)])\n",
    "\n",
    "fig, ax = plt.subplots(figsize=(12,5))\n",
    "ax2 = ax.twinx()\n",
    "ax.set_title('Volume and Exit Rate by Age Bucket')\n",
    "ax.set_xlabel('Age_Bucket')\n",
    "ax2.plot(a['Age_Bucket'], a['pct_exit'], color='black', marker='x')\n",
    "ax.bar(a['Age_Bucket'], a['total'], color='#CC5500')\n",
    "ax.set_ylabel('Exit Rate')\n",
    "ax2.set_ylabel('Total Customers')\n",
    "ax.legend(['Exit Rate'])\n",
    "ax2.legend(['Total Customers'], loc='best')\n",
    "plt.show()"
   ]
  },
  {
   "cell_type": "code",
   "execution_count": 15,
   "id": "c2b5462a",
   "metadata": {},
   "outputs": [
    {
     "data": {
      "image/png": "[encoded data removed]",
      "text/plain": [
       "<Figure size 864x360 with 2 Axes>"
      ]
     },
     "metadata": {
      "needs_background": "light"
     },
     "output_type": "display_data"
    }
   ],
   "source": [
    "a = df.groupby(['CreditScore_Bucket','Exited'])[['CustomerId']].count().unstack().reset_index()\n",
    "a['pct_exit'] = a[('CustomerId', 1)]/(a[('CustomerId', 0)]+a[('CustomerId', 1)])\n",
    "a['total'] = (a[('CustomerId', 0)]+a[('CustomerId', 1)])\n",
    "\n",
    "fig, ax = plt.subplots(figsize=(12,5))\n",
    "ax2 = ax.twinx()\n",
    "ax.set_title('Volume and Exit Rate by Age Bucket')\n",
    "ax.set_xlabel('CreditScore_Bucket')\n",
    "ax2.plot(a['CreditScore_Bucket'], a['pct_exit'], color='black', marker='x')\n",
    "ax.bar(a['CreditScore_Bucket'], a['total'], color='#CC5500')\n",
    "ax.set_ylabel('Exit Rate')\n",
    "ax2.set_ylabel('Total Customers')\n",
    "ax.legend(['Exit Rate'])\n",
    "ax2.legend(['Total Customers'], loc='best')\n",
    "plt.show()"
   ]
  },
  {
   "cell_type": "code",
   "execution_count": 16,
   "id": "f3482124",
   "metadata": {},
   "outputs": [
    {
     "data": {
      "image/png": "[encoded data removed]",
      "text/plain": [
       "<Figure size 864x360 with 2 Axes>"
      ]
     },
     "metadata": {
      "needs_background": "light"
     },
     "output_type": "display_data"
    }
   ],
   "source": [
    "a = df.groupby(['Geography','Exited'])[['CustomerId']].count().unstack().reset_index()\n",
    "a['pct_exit'] = a[('CustomerId', 1)]/(a[('CustomerId', 0)]+a[('CustomerId', 1)])\n",
    "a['total'] = (a[('CustomerId', 0)]+a[('CustomerId', 1)])\n",
    "\n",
    "fig, ax = plt.subplots(figsize=(12,5))\n",
    "ax2 = ax.twinx()\n",
    "ax.set_title('Volume and Exit Rate by Age Bucket')\n",
    "ax.set_xlabel('Geography')\n",
    "ax2.plot(a['Geography'], a['pct_exit'], color='black', marker='x')\n",
    "ax.bar(a['Geography'], a['total'], color='#CC5500')\n",
    "ax.set_ylabel('Exit Rate')\n",
    "ax2.set_ylabel('Total Customers')\n",
    "ax.legend(['Exit Rate'])\n",
    "ax2.legend(['Total Customers'], loc='best')\n",
    "plt.show()"
   ]
  },
  {
   "cell_type": "code",
   "execution_count": 17,
   "id": "a7b7ebf8",
   "metadata": {},
   "outputs": [
    {
     "data": {
      "image/png": "[encoded data removed]",
      "text/plain": [
       "<Figure size 864x360 with 2 Axes>"
      ]
     },
     "metadata": {
      "needs_background": "light"
     },
     "output_type": "display_data"
    }
   ],
   "source": [
    "a = df.groupby(['Gender','Exited'])[['CustomerId']].count().unstack().reset_index()\n",
    "a['pct_exit'] = a[('CustomerId', 1)]/(a[('CustomerId', 0)]+a[('CustomerId', 1)])\n",
    "a['total'] = (a[('CustomerId', 0)]+a[('CustomerId', 1)])\n",
    "\n",
    "fig, ax = plt.subplots(figsize=(12,5))\n",
    "ax2 = ax.twinx()\n",
    "ax.set_title('Volume and Exit Rate by Age Bucket')\n",
    "ax.set_xlabel('Gender')\n",
    "ax2.plot(a['Gender'], a['pct_exit'], color='black', marker='x')\n",
    "ax.bar(a['Gender'], a['total'], color='#CC5500')\n",
    "ax.set_ylabel('Exit Rate')\n",
    "ax2.set_ylabel('Total Customers')\n",
    "ax.legend(['Exit Rate'])\n",
    "ax2.legend(['Total Customers'], loc='best')\n",
    "plt.show()"
   ]
  },
  {
   "cell_type": "code",
   "execution_count": 19,
   "id": "6258a05d",
   "metadata": {},
   "outputs": [
    {
     "data": {
      "image/png": "[encoded data removed]",
      "text/plain": [
       "<Figure size 864x360 with 2 Axes>"
      ]
     },
     "metadata": {
      "needs_background": "light"
     },
     "output_type": "display_data"
    }
   ],
   "source": [
    "a = df.groupby(['Tenure','Exited'])[['CustomerId']].count().unstack().reset_index()\n",
    "a['pct_exit'] = a[('CustomerId', 1)]/(a[('CustomerId', 0)]+a[('CustomerId', 1)])\n",
    "a['total'] = (a[('CustomerId', 0)]+a[('CustomerId', 1)])\n",
    "\n",
    "fig, ax = plt.subplots(figsize=(12,5))\n",
    "ax2 = ax.twinx()\n",
    "ax.set_title('Volume and Exit Rate by Age Bucket')\n",
    "ax.set_xlabel('Tenure')\n",
    "ax2.plot(a['Tenure'], a['pct_exit'], color='black', marker='x')\n",
    "ax.bar(a['Tenure'], a['total'], color='#CC5500')\n",
    "ax.set_ylabel('Exit Rate')\n",
    "ax2.set_ylabel('Total Customers')\n",
    "ax.legend(['Exit Rate'])\n",
    "ax2.legend(['Total Customers'], loc='best')\n",
    "plt.show()"
   ]
  },
  {
   "cell_type": "code",
   "execution_count": 20,
   "id": "0710842c",
   "metadata": {},
   "outputs": [
    {
     "data": {
      "image/png": "[encoded data removed]",
      "text/plain": [
       "<Figure size 864x360 with 2 Axes>"
      ]
     },
     "metadata": {
      "needs_background": "light"
     },
     "output_type": "display_data"
    }
   ],
   "source": [
    "a = df.groupby(['pct_cc','Exited'])[['CustomerId']].count().unstack().reset_index()\n",
    "a['pct_exit'] = a[('CustomerId', 1)]/(a[('CustomerId', 0)]+a[('CustomerId', 1)])\n",
    "a['total'] = (a[('CustomerId', 0)]+a[('CustomerId', 1)])\n",
    "\n",
    "fig, ax = plt.subplots(figsize=(12,5))\n",
    "ax2 = ax.twinx()\n",
    "ax.set_title('Volume and Exit Rate by Age Bucket')\n",
    "ax.set_xlabel('pct_cc')\n",
    "ax2.plot(a['pct_cc'], a['pct_exit'], color='black', marker='x')\n",
    "ax.bar(a['pct_cc'], a['total'], color='#CC5500')\n",
    "ax.set_ylabel('Exit Rate')\n",
    "ax2.set_ylabel('Total Customers')\n",
    "ax.legend(['Exit Rate'])\n",
    "ax2.legend(['Total Customers'], loc='best')\n",
    "plt.show()"
   ]
  },
  {
   "cell_type": "code",
   "execution_count": 21,
   "id": "54223232",
   "metadata": {},
   "outputs": [
    {
     "data": {
      "image/png": "[encoded data removed]",
      "text/plain": [
       "<Figure size 864x360 with 2 Axes>"
      ]
     },
     "metadata": {
      "needs_background": "light"
     },
     "output_type": "display_data"
    }
   ],
   "source": [
    "a = df.groupby(['NumOfProducts','Exited'])[['CustomerId']].count().unstack().reset_index()\n",
    "a['pct_exit'] = a[('CustomerId', 1)]/(a[('CustomerId', 0)]+a[('CustomerId', 1)])\n",
    "a['total'] = (a[('CustomerId', 0)]+a[('CustomerId', 1)])\n",
    "\n",
    "fig, ax = plt.subplots(figsize=(12,5))\n",
    "ax2 = ax.twinx()\n",
    "ax.set_title('Volume and Exit Rate by Age Bucket')\n",
    "ax.set_xlabel('NumOfProducts')\n",
    "ax2.plot(a['NumOfProducts'], a['pct_exit'], color='black', marker='x')\n",
    "ax.bar(a['NumOfProducts'], a['total'], color='#CC5500')\n",
    "ax.set_ylabel('Exit Rate')\n",
    "ax2.set_ylabel('Total Customers')\n",
    "ax.legend(['Exit Rate'])\n",
    "ax2.legend(['Total Customers'], loc='best')\n",
    "plt.show()"
   ]
  },
  {
   "cell_type": "code",
   "execution_count": 22,
   "id": "dfec1926",
   "metadata": {},
   "outputs": [
    {
     "data": {
      "text/plain": [
       "(array([7.000e+00, 6.900e+01, 3.600e+02, 1.173e+03, 2.080e+03, 1.746e+03,\n",
       "        7.290e+02, 1.860e+02, 3.000e+01, 2.000e+00]),\n",
       " array([     0.   ,  25089.809,  50179.618,  75269.427, 100359.236,\n",
       "        125449.045, 150538.854, 175628.663, 200718.472, 225808.281,\n",
       "        250898.09 ]),\n",
       " <a list of 10 Patch objects>)"
      ]
     },
     "execution_count": 22,
     "metadata": {},
     "output_type": "execute_result"
    },
    {
     "data": {
      "image/png": "[encoded data removed]",
      "text/plain": [
       "<Figure size 432x288 with 1 Axes>"
      ]
     },
     "metadata": {
      "needs_background": "light"
     },
     "output_type": "display_data"
    }
   ],
   "source": [
    "a = df.groupby(['Balance','Exited'])[['CustomerId']].count().unstack().reset_index()\n",
    "a['pct_exit'] = a[('CustomerId', 1)]/(a[('CustomerId', 0)]+a[('CustomerId', 1)])\n",
    "a['total'] = (a[('CustomerId', 0)]+a[('CustomerId', 1)])\n",
    "\n",
    "hist(a['Balance'], color='#CC5500')\n"
   ]
  },
  {
   "cell_type": "code",
   "execution_count": null,
   "id": "d401a0ca",
   "metadata": {},
   "outputs": [],
   "source": [
    "formula = 'target ~ 0 + rate_marriage + age + yrs_married + children ' + \\\n",
    "           ' + religious + educ + C(occupation) + C(occupation_husb)'"
   ]
  },
  {
   "cell_type": "code",
   "execution_count": 52,
   "id": "c3e5e17f",
   "metadata": {},
   "outputs": [
    {
     "data": {
      "text/html": [
       "<div>\n",
       "<style scoped>\n",
       "    .dataframe tbody tr th:only-of-type {\n",
       "        vertical-align: middle;\n",
       "    }\n",
       "\n",
       "    .dataframe tbody tr th {\n",
       "        vertical-align: top;\n",
       "    }\n",
       "\n",
       "    .dataframe thead th {\n",
       "        text-align: right;\n",
       "    }\n",
       "</style>\n",
       "<table border=\"1\" class=\"dataframe\">\n",
       "  <thead>\n",
       "    <tr style=\"text-align: right;\">\n",
       "      <th></th>\n",
       "      <th>RowNumber</th>\n",
       "      <th>CustomerId</th>\n",
       "      <th>Surname</th>\n",
       "      <th>CreditScore</th>\n",
       "      <th>Geography</th>\n",
       "      <th>Gender</th>\n",
       "      <th>Age</th>\n",
       "      <th>Tenure</th>\n",
       "      <th>Balance</th>\n",
       "      <th>NumOfProducts</th>\n",
       "      <th>HasCrCard</th>\n",
       "      <th>IsActiveMember</th>\n",
       "      <th>EstimatedSalary</th>\n",
       "      <th>Exited</th>\n",
       "      <th>CreditScore_Bucket</th>\n",
       "      <th>Age_Bucket</th>\n",
       "      <th>pct_cc</th>\n",
       "    </tr>\n",
       "  </thead>\n",
       "  <tbody>\n",
       "    <tr>\n",
       "      <td>0</td>\n",
       "      <td>1</td>\n",
       "      <td>15634602</td>\n",
       "      <td>Hargrave</td>\n",
       "      <td>619</td>\n",
       "      <td>France</td>\n",
       "      <td>Female</td>\n",
       "      <td>42</td>\n",
       "      <td>2</td>\n",
       "      <td>0.00</td>\n",
       "      <td>1</td>\n",
       "      <td>1</td>\n",
       "      <td>1</td>\n",
       "      <td>101348.88</td>\n",
       "      <td>1</td>\n",
       "      <td>Fair</td>\n",
       "      <td>Middle Age</td>\n",
       "      <td>1.000000</td>\n",
       "    </tr>\n",
       "    <tr>\n",
       "      <td>1</td>\n",
       "      <td>2</td>\n",
       "      <td>15647311</td>\n",
       "      <td>Hill</td>\n",
       "      <td>608</td>\n",
       "      <td>Spain</td>\n",
       "      <td>Female</td>\n",
       "      <td>41</td>\n",
       "      <td>1</td>\n",
       "      <td>83807.86</td>\n",
       "      <td>1</td>\n",
       "      <td>0</td>\n",
       "      <td>1</td>\n",
       "      <td>112542.58</td>\n",
       "      <td>0</td>\n",
       "      <td>Fair</td>\n",
       "      <td>Middle Age</td>\n",
       "      <td>0.000000</td>\n",
       "    </tr>\n",
       "    <tr>\n",
       "      <td>2</td>\n",
       "      <td>3</td>\n",
       "      <td>15619304</td>\n",
       "      <td>Onio</td>\n",
       "      <td>502</td>\n",
       "      <td>France</td>\n",
       "      <td>Female</td>\n",
       "      <td>42</td>\n",
       "      <td>8</td>\n",
       "      <td>159660.80</td>\n",
       "      <td>3</td>\n",
       "      <td>1</td>\n",
       "      <td>0</td>\n",
       "      <td>113931.57</td>\n",
       "      <td>1</td>\n",
       "      <td>Poor</td>\n",
       "      <td>Middle Age</td>\n",
       "      <td>0.333333</td>\n",
       "    </tr>\n",
       "    <tr>\n",
       "      <td>3</td>\n",
       "      <td>4</td>\n",
       "      <td>15701354</td>\n",
       "      <td>Boni</td>\n",
       "      <td>699</td>\n",
       "      <td>France</td>\n",
       "      <td>Female</td>\n",
       "      <td>39</td>\n",
       "      <td>1</td>\n",
       "      <td>0.00</td>\n",
       "      <td>2</td>\n",
       "      <td>0</td>\n",
       "      <td>0</td>\n",
       "      <td>93826.63</td>\n",
       "      <td>0</td>\n",
       "      <td>Good</td>\n",
       "      <td>Middle Age</td>\n",
       "      <td>0.000000</td>\n",
       "    </tr>\n",
       "    <tr>\n",
       "      <td>4</td>\n",
       "      <td>5</td>\n",
       "      <td>15737888</td>\n",
       "      <td>Mitchell</td>\n",
       "      <td>850</td>\n",
       "      <td>Spain</td>\n",
       "      <td>Female</td>\n",
       "      <td>43</td>\n",
       "      <td>2</td>\n",
       "      <td>125510.82</td>\n",
       "      <td>1</td>\n",
       "      <td>1</td>\n",
       "      <td>1</td>\n",
       "      <td>79084.10</td>\n",
       "      <td>0</td>\n",
       "      <td>Exceptional</td>\n",
       "      <td>Middle Age</td>\n",
       "      <td>1.000000</td>\n",
       "    </tr>\n",
       "    <tr>\n",
       "      <td>...</td>\n",
       "      <td>...</td>\n",
       "      <td>...</td>\n",
       "      <td>...</td>\n",
       "      <td>...</td>\n",
       "      <td>...</td>\n",
       "      <td>...</td>\n",
       "      <td>...</td>\n",
       "      <td>...</td>\n",
       "      <td>...</td>\n",
       "      <td>...</td>\n",
       "      <td>...</td>\n",
       "      <td>...</td>\n",
       "      <td>...</td>\n",
       "      <td>...</td>\n",
       "      <td>...</td>\n",
       "      <td>...</td>\n",
       "      <td>...</td>\n",
       "    </tr>\n",
       "    <tr>\n",
       "      <td>9995</td>\n",
       "      <td>9996</td>\n",
       "      <td>15606229</td>\n",
       "      <td>Obijiaku</td>\n",
       "      <td>771</td>\n",
       "      <td>France</td>\n",
       "      <td>Male</td>\n",
       "      <td>39</td>\n",
       "      <td>5</td>\n",
       "      <td>0.00</td>\n",
       "      <td>2</td>\n",
       "      <td>1</td>\n",
       "      <td>0</td>\n",
       "      <td>96270.64</td>\n",
       "      <td>0</td>\n",
       "      <td>Very Good</td>\n",
       "      <td>Middle Age</td>\n",
       "      <td>0.500000</td>\n",
       "    </tr>\n",
       "    <tr>\n",
       "      <td>9996</td>\n",
       "      <td>9997</td>\n",
       "      <td>15569892</td>\n",
       "      <td>Johnstone</td>\n",
       "      <td>516</td>\n",
       "      <td>France</td>\n",
       "      <td>Male</td>\n",
       "      <td>35</td>\n",
       "      <td>10</td>\n",
       "      <td>57369.61</td>\n",
       "      <td>1</td>\n",
       "      <td>1</td>\n",
       "      <td>1</td>\n",
       "      <td>101699.77</td>\n",
       "      <td>0</td>\n",
       "      <td>Poor</td>\n",
       "      <td>Adult</td>\n",
       "      <td>1.000000</td>\n",
       "    </tr>\n",
       "    <tr>\n",
       "      <td>9997</td>\n",
       "      <td>9998</td>\n",
       "      <td>15584532</td>\n",
       "      <td>Liu</td>\n",
       "      <td>709</td>\n",
       "      <td>France</td>\n",
       "      <td>Female</td>\n",
       "      <td>36</td>\n",
       "      <td>7</td>\n",
       "      <td>0.00</td>\n",
       "      <td>1</td>\n",
       "      <td>0</td>\n",
       "      <td>1</td>\n",
       "      <td>42085.58</td>\n",
       "      <td>1</td>\n",
       "      <td>Good</td>\n",
       "      <td>Middle Age</td>\n",
       "      <td>0.000000</td>\n",
       "    </tr>\n",
       "    <tr>\n",
       "      <td>9998</td>\n",
       "      <td>9999</td>\n",
       "      <td>15682355</td>\n",
       "      <td>Sabbatini</td>\n",
       "      <td>772</td>\n",
       "      <td>Germany</td>\n",
       "      <td>Male</td>\n",
       "      <td>42</td>\n",
       "      <td>3</td>\n",
       "      <td>75075.31</td>\n",
       "      <td>2</td>\n",
       "      <td>1</td>\n",
       "      <td>0</td>\n",
       "      <td>92888.52</td>\n",
       "      <td>1</td>\n",
       "      <td>Very Good</td>\n",
       "      <td>Middle Age</td>\n",
       "      <td>0.500000</td>\n",
       "    </tr>\n",
       "    <tr>\n",
       "      <td>9999</td>\n",
       "      <td>10000</td>\n",
       "      <td>15628319</td>\n",
       "      <td>Walker</td>\n",
       "      <td>792</td>\n",
       "      <td>France</td>\n",
       "      <td>Female</td>\n",
       "      <td>28</td>\n",
       "      <td>4</td>\n",
       "      <td>130142.79</td>\n",
       "      <td>1</td>\n",
       "      <td>1</td>\n",
       "      <td>0</td>\n",
       "      <td>38190.78</td>\n",
       "      <td>0</td>\n",
       "      <td>Very Good</td>\n",
       "      <td>Adult</td>\n",
       "      <td>1.000000</td>\n",
       "    </tr>\n",
       "  </tbody>\n",
       "</table>\n",
       "<p>10000 rows × 17 columns</p>\n",
       "</div>"
      ],
      "text/plain": [
       "      RowNumber  CustomerId    Surname  CreditScore Geography  Gender  Age  \\\n",
       "0             1    15634602   Hargrave          619    France  Female   42   \n",
       "1             2    15647311       Hill          608     Spain  Female   41   \n",
       "2             3    15619304       Onio          502    France  Female   42   \n",
       "3             4    15701354       Boni          699    France  Female   39   \n",
       "4             5    15737888   Mitchell          850     Spain  Female   43   \n",
       "...         ...         ...        ...          ...       ...     ...  ...   \n",
       "9995       9996    15606229   Obijiaku          771    France    Male   39   \n",
       "9996       9997    15569892  Johnstone          516    France    Male   35   \n",
       "9997       9998    15584532        Liu          709    France  Female   36   \n",
       "9998       9999    15682355  Sabbatini          772   Germany    Male   42   \n",
       "9999      10000    15628319     Walker          792    France  Female   28   \n",
       "\n",
       "      Tenure    Balance  NumOfProducts  HasCrCard  IsActiveMember  \\\n",
       "0          2       0.00              1          1               1   \n",
       "1          1   83807.86              1          0               1   \n",
       "2          8  159660.80              3          1               0   \n",
       "3          1       0.00              2          0               0   \n",
       "4          2  125510.82              1          1               1   \n",
       "...      ...        ...            ...        ...             ...   \n",
       "9995       5       0.00              2          1               0   \n",
       "9996      10   57369.61              1          1               1   \n",
       "9997       7       0.00              1          0               1   \n",
       "9998       3   75075.31              2          1               0   \n",
       "9999       4  130142.79              1          1               0   \n",
       "\n",
       "      EstimatedSalary  Exited CreditScore_Bucket  Age_Bucket    pct_cc  \n",
       "0           101348.88       1               Fair  Middle Age  1.000000  \n",
       "1           112542.58       0               Fair  Middle Age  0.000000  \n",
       "2           113931.57       1               Poor  Middle Age  0.333333  \n",
       "3            93826.63       0               Good  Middle Age  0.000000  \n",
       "4            79084.10       0        Exceptional  Middle Age  1.000000  \n",
       "...               ...     ...                ...         ...       ...  \n",
       "9995         96270.64       0          Very Good  Middle Age  0.500000  \n",
       "9996        101699.77       0               Poor       Adult  1.000000  \n",
       "9997         42085.58       1               Good  Middle Age  0.000000  \n",
       "9998         92888.52       1          Very Good  Middle Age  0.500000  \n",
       "9999         38190.78       0          Very Good       Adult  1.000000  \n",
       "\n",
       "[10000 rows x 17 columns]"
      ]
     },
     "execution_count": 52,
     "metadata": {},
     "output_type": "execute_result"
    }
   ],
   "source": [
    "df"
   ]
  },
  {
   "cell_type": "code",
   "execution_count": 65,
   "id": "dd9da408",
   "metadata": {},
   "outputs": [],
   "source": [
    "formula = 'Exited ~ 0 + CreditScore + Age + Balance + Tenure + NumOfProducts + C(HasCrCard)+ C(IsActiveMember)' + \\\n",
    "            '+ C(Geography)  + C(Gender) '"
   ]
  },
  {
   "cell_type": "code",
   "execution_count": null,
   "id": "04f846bb",
   "metadata": {},
   "outputs": [],
   "source": []
  },
  {
   "cell_type": "code",
   "execution_count": 66,
   "id": "49946597",
   "metadata": {},
   "outputs": [],
   "source": [
    "Y, X = dmatrices(formula, df, return_type='dataframe')\n",
    "y = Y['Exited'].values"
   ]
  },
  {
   "cell_type": "code",
   "execution_count": 67,
   "id": "7c609449",
   "metadata": {},
   "outputs": [
    {
     "data": {
      "text/plain": [
       "<matplotlib.axes._subplots.AxesSubplot at 0x28fdc8e3d48>"
      ]
     },
     "execution_count": 67,
     "metadata": {},
     "output_type": "execute_result"
    },
    {
     "data": {
      "image/png": "[encoded data removed]",
      "text/plain": [
       "<Figure size 432x288 with 1 Axes>"
      ]
     },
     "metadata": {
      "needs_background": "light"
     },
     "output_type": "display_data"
    }
   ],
   "source": [
    "product_vs_target = pd.crosstab(df['NumOfProducts'], df['Exited'])\n",
    "product_vs_target\n",
    "total = product_vs_target.apply(sum)\n",
    "total\n",
    "product_vs_target /= total\n",
    "product_vs_target\n",
    "product_vs_target.plot(kind='bar', rot=0)"
   ]
  },
  {
   "cell_type": "code",
   "execution_count": 68,
   "id": "4405175e",
   "metadata": {},
   "outputs": [
    {
     "data": {
      "text/html": [
       "<div>\n",
       "<style scoped>\n",
       "    .dataframe tbody tr th:only-of-type {\n",
       "        vertical-align: middle;\n",
       "    }\n",
       "\n",
       "    .dataframe tbody tr th {\n",
       "        vertical-align: top;\n",
       "    }\n",
       "\n",
       "    .dataframe thead th {\n",
       "        text-align: right;\n",
       "    }\n",
       "</style>\n",
       "<table border=\"1\" class=\"dataframe\">\n",
       "  <thead>\n",
       "    <tr style=\"text-align: right;\">\n",
       "      <th>Exited</th>\n",
       "      <th>0</th>\n",
       "      <th>1</th>\n",
       "    </tr>\n",
       "    <tr>\n",
       "      <th>Age_Bucket</th>\n",
       "      <th></th>\n",
       "      <th></th>\n",
       "    </tr>\n",
       "  </thead>\n",
       "  <tbody>\n",
       "    <tr>\n",
       "      <td>Adult</td>\n",
       "      <td>3241</td>\n",
       "      <td>301</td>\n",
       "    </tr>\n",
       "    <tr>\n",
       "      <td>Early Retirement</td>\n",
       "      <td>145</td>\n",
       "      <td>16</td>\n",
       "    </tr>\n",
       "    <tr>\n",
       "      <td>Middle Age</td>\n",
       "      <td>4001</td>\n",
       "      <td>1673</td>\n",
       "    </tr>\n",
       "    <tr>\n",
       "      <td>Old</td>\n",
       "      <td>11</td>\n",
       "      <td>1</td>\n",
       "    </tr>\n",
       "    <tr>\n",
       "      <td>Young Adult</td>\n",
       "      <td>565</td>\n",
       "      <td>46</td>\n",
       "    </tr>\n",
       "  </tbody>\n",
       "</table>\n",
       "</div>"
      ],
      "text/plain": [
       "Exited               0     1\n",
       "Age_Bucket                  \n",
       "Adult             3241   301\n",
       "Early Retirement   145    16\n",
       "Middle Age        4001  1673\n",
       "Old                 11     1\n",
       "Young Adult        565    46"
      ]
     },
     "execution_count": 68,
     "metadata": {},
     "output_type": "execute_result"
    }
   ],
   "source": [
    "Age_vs_target = pd.crosstab(df['Age_Bucket'], df['Exited'])\n",
    "Age_vs_target"
   ]
  },
  {
   "cell_type": "code",
   "execution_count": 69,
   "id": "24355deb",
   "metadata": {},
   "outputs": [],
   "source": [
    "from sklearn.model_selection import train_test_split\n",
    "X_train, X_test, y_train, y_test = train_test_split(X, y, test_size=0.3, random_state=1)"
   ]
  },
  {
   "cell_type": "code",
   "execution_count": 70,
   "id": "3f0c00b9",
   "metadata": {},
   "outputs": [
    {
     "name": "stderr",
     "output_type": "stream",
     "text": [
      "C:\\Users\\srividya\\Anaconda3\\lib\\site-packages\\sklearn\\linear_model\\logistic.py:432: FutureWarning: Default solver will be changed to 'lbfgs' in 0.22. Specify a solver to silence this warning.\n",
      "  FutureWarning)\n"
     ]
    }
   ],
   "source": [
    "from sklearn.linear_model import LogisticRegression\n",
    "model = LogisticRegression()\n",
    "result = model.fit(X_train, y_train)"
   ]
  },
  {
   "cell_type": "code",
   "execution_count": 71,
   "id": "11bf488f",
   "metadata": {},
   "outputs": [
    {
     "name": "stdout",
     "output_type": "stream",
     "text": [
      "0.793\n"
     ]
    }
   ],
   "source": [
    "from sklearn import metrics\n",
    "\n",
    "prediction_train = model.predict(X_train)\n",
    "print(metrics.accuracy_score(y_train, prediction_train))"
   ]
  },
  {
   "cell_type": "markdown",
   "id": "a7af322a",
   "metadata": {},
   "source": [
    "Test accuracy = 78.76%"
   ]
  },
  {
   "cell_type": "code",
   "execution_count": 72,
   "id": "5965d8c8",
   "metadata": {},
   "outputs": [
    {
     "name": "stdout",
     "output_type": "stream",
     "text": [
      "0.7876666666666666\n"
     ]
    }
   ],
   "source": [
    "prediction = model.predict(X_test)\n",
    "print(metrics.accuracy_score(y_test, prediction))"
   ]
  },
  {
   "cell_type": "code",
   "execution_count": 73,
   "id": "12dcc35c",
   "metadata": {},
   "outputs": [
    {
     "name": "stdout",
     "output_type": "stream",
     "text": [
      "Number of positive examples = 1410\n",
      "Number of negative examples = 5590\n"
     ]
    }
   ],
   "source": [
    "# y_train is 0 or 1.\n",
    "print('Number of positive examples =', len(y_train[y_train==1]))\n",
    "print('Number of negative examples =', len(y_train[y_train==0]))"
   ]
  },
  {
   "cell_type": "code",
   "execution_count": 74,
   "id": "25f78d84",
   "metadata": {},
   "outputs": [
    {
     "name": "stdout",
     "output_type": "stream",
     "text": [
      "Number of examples where baseline is correct = 2373\n",
      "Baseline accuracy = 0.791\n"
     ]
    }
   ],
   "source": [
    "negative_examples_in_test = len(y_test[y_test==0])\n",
    "total_examples_in_test = len(y_test)\n",
    "\n",
    "print('Number of examples where baseline is correct =', negative_examples_in_test)\n",
    "print('Baseline accuracy =', negative_examples_in_test * 1.0 / total_examples_in_test)"
   ]
  },
  {
   "cell_type": "code",
   "execution_count": 75,
   "id": "917284aa",
   "metadata": {},
   "outputs": [
    {
     "data": {
      "text/plain": [
       "array([[-2.08347803e-05, -3.08872448e-04, -1.86726286e-03,\n",
       "         1.11671619e-03, -3.94003675e-04, -1.39801834e-03,\n",
       "        -5.04024651e-03,  4.00047651e-02,  3.72532470e-06,\n",
       "        -1.48678207e-03, -6.04243559e-04]])"
      ]
     },
     "execution_count": 75,
     "metadata": {},
     "output_type": "execute_result"
    }
   ],
   "source": [
    "model.coef_"
   ]
  },
  {
   "cell_type": "code",
   "execution_count": 76,
   "id": "1cc45b71",
   "metadata": {},
   "outputs": [
    {
     "data": {
      "text/plain": [
       "Age                        0.040005\n",
       "C(Geography)[T.Germany]    0.001117\n",
       "Balance                    0.000004\n",
       "C(HasCrCard)[0]           -0.000021\n",
       "C(HasCrCard)[1]           -0.000309\n",
       "C(Geography)[T.Spain]     -0.000394\n",
       "NumOfProducts             -0.000604\n",
       "C(Gender)[T.Male]         -0.001398\n",
       "Tenure                    -0.001487\n",
       "C(IsActiveMember)[T.1]    -0.001867\n",
       "CreditScore               -0.005040\n",
       "dtype: float64"
      ]
     },
     "execution_count": 76,
     "metadata": {},
     "output_type": "execute_result"
    }
   ],
   "source": [
    "weights = Series(model.coef_[0],\n",
    "                 index=X.columns.values)\n",
    "weights.sort_values(ascending=False)"
   ]
  },
  {
   "cell_type": "code",
   "execution_count": 95,
   "id": "ae75571c",
   "metadata": {},
   "outputs": [],
   "source": [
    "formula1 = 'Exited ~ 0 + CreditScore + Age + Balance + Tenure + NumOfProducts + pct_cc + C(IsActiveMember)' + \\\n",
    "            '+ C(Geography)  + C(Gender) + C(CreditScore_Bucket) + + C(Age_Bucket) '\n",
    "Y, X = dmatrices(formula1, df, return_type='dataframe')\n",
    "y = Y['Exited'].values"
   ]
  },
  {
   "cell_type": "code",
   "execution_count": 96,
   "id": "893baae7",
   "metadata": {},
   "outputs": [],
   "source": [
    "X_train, X_test, y_train, y_test = train_test_split(X, y, test_size=0.3, random_state=1)"
   ]
  },
  {
   "cell_type": "code",
   "execution_count": 97,
   "id": "e16f2c51",
   "metadata": {},
   "outputs": [
    {
     "name": "stderr",
     "output_type": "stream",
     "text": [
      "C:\\Users\\srividya\\Anaconda3\\lib\\site-packages\\sklearn\\linear_model\\logistic.py:432: FutureWarning: Default solver will be changed to 'lbfgs' in 0.22. Specify a solver to silence this warning.\n",
      "  FutureWarning)\n"
     ]
    }
   ],
   "source": [
    "model = LogisticRegression()\n",
    "result = model.fit(X_train, y_train)"
   ]
  },
  {
   "cell_type": "code",
   "execution_count": 98,
   "id": "95c94b2a",
   "metadata": {},
   "outputs": [
    {
     "name": "stdout",
     "output_type": "stream",
     "text": [
      "0.7932857142857143\n"
     ]
    }
   ],
   "source": [
    "\n",
    "\n",
    "prediction_train = model.predict(X_train)\n",
    "print(metrics.accuracy_score(y_train, prediction_train))"
   ]
  },
  {
   "cell_type": "code",
   "execution_count": 99,
   "id": "e9b9fd39",
   "metadata": {},
   "outputs": [
    {
     "name": "stdout",
     "output_type": "stream",
     "text": [
      "0.788\n"
     ]
    }
   ],
   "source": [
    "prediction = model.predict(X_test)\n",
    "print(metrics.accuracy_score(y_test, prediction))"
   ]
  },
  {
   "cell_type": "code",
   "execution_count": 100,
   "id": "ac0e86dd",
   "metadata": {},
   "outputs": [
    {
     "data": {
      "text/plain": [
       "Age                                   0.040103\n",
       "C(Age_Bucket)[T.Middle Age]           0.002258\n",
       "C(IsActiveMember)[0]                  0.001541\n",
       "C(Geography)[T.Germany]               0.001119\n",
       "C(CreditScore_Bucket)[T.Very Good]    0.000351\n",
       "pct_cc                                0.000159\n",
       "C(CreditScore_Bucket)[T.Good]         0.000078\n",
       "Balance                               0.000004\n",
       "C(Age_Bucket)[T.Old]                 -0.000012\n",
       "C(Age_Bucket)[T.Early Retirement]    -0.000139\n",
       "C(CreditScore_Bucket)[T.Fair]        -0.000185\n",
       "C(Age_Bucket)[T.Young Adult]         -0.000335\n",
       "C(Geography)[T.Spain]                -0.000395\n",
       "NumOfProducts                        -0.000606\n",
       "C(CreditScore_Bucket)[T.Poor]        -0.000805\n",
       "C(Gender)[T.Male]                    -0.001401\n",
       "Tenure                               -0.001490\n",
       "C(IsActiveMember)[1]                 -0.001871\n",
       "CreditScore                          -0.005050\n",
       "dtype: float64"
      ]
     },
     "execution_count": 100,
     "metadata": {},
     "output_type": "execute_result"
    }
   ],
   "source": [
    "weights = Series(model.coef_[0],\n",
    "                 index=X.columns.values)\n",
    "weights.sort_values(ascending=False)"
   ]
  },
  {
   "cell_type": "markdown",
   "id": "9555e12c",
   "metadata": {},
   "source": [
    "Lasso Logistic Regression "
   ]
  },
  {
   "cell_type": "code",
   "execution_count": 113,
   "id": "cf26657d",
   "metadata": {},
   "outputs": [],
   "source": [
    "formula2 = 'Exited ~ 0 + CreditScore + Age + Balance + Tenure + NumOfProducts + pct_cc + C(IsActiveMember)' + \\\n",
    "            '+ C(Geography)  + C(Gender) '\n",
    "Y, X = dmatrices(formula2, df, return_type='dataframe')\n",
    "y = Y['Exited'].values\n",
    "X_train, X_test, y_train, y_test = train_test_split(X, y, test_size=0.3, random_state=1)"
   ]
  },
  {
   "cell_type": "code",
   "execution_count": 114,
   "id": "fbee0461",
   "metadata": {},
   "outputs": [],
   "source": [
    "\n",
    "model2 = LogisticRegression(\n",
    "    penalty='l1',\n",
    "    solver='liblinear',  # or 'liblinear'\n",
    "    )\n",
    "\n",
    "result2=model2.fit(X_train, y_train)\n",
    "\n"
   ]
  },
  {
   "cell_type": "code",
   "execution_count": 115,
   "id": "aa59eb63",
   "metadata": {},
   "outputs": [
    {
     "name": "stdout",
     "output_type": "stream",
     "text": [
      "0.8124285714285714\n"
     ]
    }
   ],
   "source": [
    "prediction_train_2= model2.predict(X_train)\n",
    "print(metrics.accuracy_score(y_train, prediction_train_2))"
   ]
  },
  {
   "cell_type": "code",
   "execution_count": 116,
   "id": "23488b35",
   "metadata": {},
   "outputs": [
    {
     "name": "stdout",
     "output_type": "stream",
     "text": [
      "0.8113333333333334\n"
     ]
    }
   ],
   "source": [
    "prediction_2 = model2.predict(X_test)\n",
    "print(metrics.accuracy_score(y_test, prediction_2))"
   ]
  },
  {
   "cell_type": "code",
   "execution_count": 118,
   "id": "3a7db91f",
   "metadata": {},
   "outputs": [
    {
     "data": {
      "text/plain": [
       "C(Geography)[T.Germany]    0.738328\n",
       "pct_cc                     0.208165\n",
       "Age                        0.069854\n",
       "C(Geography)[T.Spain]      0.064204\n",
       "Balance                    0.000003\n",
       "CreditScore               -0.000606\n",
       "Tenure                    -0.002454\n",
       "NumOfProducts             -0.024001\n",
       "C(Gender)[T.Male]         -0.574561\n",
       "C(IsActiveMember)[0]      -1.490394\n",
       "C(IsActiveMember)[1]      -2.597817\n",
       "dtype: float64"
      ]
     },
     "execution_count": 118,
     "metadata": {},
     "output_type": "execute_result"
    }
   ],
   "source": [
    "weights2 = Series(model2.coef_[0],\n",
    "                 index=X.columns.values)\n",
    "weights2.sort_values(ascending=False)"
   ]
  },
  {
   "cell_type": "code",
   "execution_count": 119,
   "id": "9978a2a0",
   "metadata": {},
   "outputs": [],
   "source": [
    "import seaborn as sns\n",
    "from sklearn import metrics"
   ]
  },
  {
   "cell_type": "code",
   "execution_count": 125,
   "id": "833b73a7",
   "metadata": {},
   "outputs": [],
   "source": [
    "score = metrics.accuracy_score(y_test, prediction_2)"
   ]
  },
  {
   "cell_type": "code",
   "execution_count": 134,
   "id": "f2061e70",
   "metadata": {},
   "outputs": [
    {
     "data": {
      "image/png": "[encoded data removed]",
      "text/plain": [
       "<Figure size 504x504 with 2 Axes>"
      ]
     },
     "metadata": {
      "needs_background": "light"
     },
     "output_type": "display_data"
    }
   ],
   "source": [
    "cm = metrics.confusion_matrix(y_test, prediction_2)\n",
    "plt.figure(figsize=(7,7))\n",
    "sns.heatmap(cm, annot=True, fmt=\".3f\", linewidths=.5, square = True, cmap = 'Oranges');\n",
    "plt.ylabel('Actual Exited');\n",
    "plt.xlabel('Predicted Exited');\n",
    "all_sample_title = 'Accuracy Score: {0}'.format(score)\n",
    "plt.title(all_sample_title, size =20);"
   ]
  },
  {
   "cell_type": "code",
   "execution_count": 135,
   "id": "c872b969",
   "metadata": {},
   "outputs": [
    {
     "name": "stdout",
     "output_type": "stream",
     "text": [
      "[[2306   67]\n",
      " [ 499  128]]\n"
     ]
    }
   ],
   "source": [
    "print(cm)"
   ]
  },
  {
   "cell_type": "markdown",
   "id": "fe8b70a1",
   "metadata": {},
   "source": [
    "\n",
    "\n",
    "**Observations**\n",
    "\n",
    "* Credit Score has a **negative** weight\n",
    "    * The Higher the credit score the more likely the customer will exit. \n",
    "* Age has a positive weight \n",
    "    * Middle aged customers tend to exit more. Middle aged customers do have a better credit score than younger customers. \n",
    "    * \n",
    "* Surprisingly Number of Products which shows up as an important variable in other models doesn't show up in any of the logistic regression. \n"
   ]
  }
 ],
 "metadata": {
  "kernelspec": {
   "display_name": "Python 3 (ipykernel)",
   "language": "python",
   "name": "python3"
  },
  "language_info": {
   "codemirror_mode": {
    "name": "ipython",
    "version": 3
   },
   "file_extension": ".py",
   "mimetype": "text/x-python",
   "name": "python",
   "nbconvert_exporter": "python",
   "pygments_lexer": "ipython3",
   "version": "3.9.12"
  }
 },
 "nbformat": 4,
 "nbformat_minor": 5
}
